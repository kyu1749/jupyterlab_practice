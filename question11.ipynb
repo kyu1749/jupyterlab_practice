{
 "cells": [
  {
   "cell_type": "markdown",
   "id": "cef5a8fa-5cf4-419a-b629-689a7251abc0",
   "metadata": {},
   "source": [
    "# Kendra Yu\n",
    "Notebook for assignment 7"
   ]
  },
  {
   "cell_type": "code",
   "execution_count": 1,
   "id": "1511c180-4a86-47e6-912d-7b560652dc48",
   "metadata": {
    "tags": []
   },
   "outputs": [
    {
     "data": {
      "text/plain": [
       "5.0"
      ]
     },
     "execution_count": 1,
     "metadata": {},
     "output_type": "execute_result"
    }
   ],
   "source": [
    "def compute_mean(numbers_list):\n",
    "    \n",
    "    numbers_sum = 0\n",
    "    for number in numbers_list:\n",
    "        numbers_sum = numbers_sum + number\n",
    "    \n",
    "    mean = numbers_sum / len(numbers_list)\n",
    "    return mean\n",
    "\n",
    "compute_mean([2, 4, 6, 8])\n"
   ]
  },
  {
   "cell_type": "markdown",
   "id": "83ceb9a1-c806-4a6b-aeb2-953e23dc7535",
   "metadata": {
    "tags": []
   },
   "source": [
    "The above code defines a function named `compute_mean` and requires a parameters/arguments in the form of a list of numbers. The output is the calculated mean or average of this list, as follows:\n",
    "\n",
    "$\\bar{x} = \\frac{x_1+x_2+...+x_n}{n} = \\frac{1}{n}\\Bigg(\\displaystyle\\sum_{i=1}^{n} x_i \\Bigg)$"
   ]
  },
  {
   "cell_type": "code",
   "execution_count": null,
   "id": "9f5d3c45-1837-46be-8aab-697d525f00aa",
   "metadata": {},
   "outputs": [],
   "source": []
  }
 ],
 "metadata": {
  "kernelspec": {
   "display_name": "Python 3 (ipykernel)",
   "language": "python",
   "name": "python3"
  },
  "language_info": {
   "codemirror_mode": {
    "name": "ipython",
    "version": 3
   },
   "file_extension": ".py",
   "mimetype": "text/x-python",
   "name": "python",
   "nbconvert_exporter": "python",
   "pygments_lexer": "ipython3",
   "version": "3.10.10"
  }
 },
 "nbformat": 4,
 "nbformat_minor": 5
}
