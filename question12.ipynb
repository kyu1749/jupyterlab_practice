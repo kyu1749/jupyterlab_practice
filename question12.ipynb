{
 "cells": [
  {
   "cell_type": "markdown",
   "id": "48449505-8959-498f-a86a-bcccd446bd9b",
   "metadata": {},
   "source": [
    "We are currently working in the following directory:"
   ]
  },
  {
   "cell_type": "code",
   "execution_count": 1,
   "id": "80cf17ca-5bfd-423f-a53e-9de708309f29",
   "metadata": {
    "tags": []
   },
   "outputs": [
    {
     "data": {
      "text/plain": [
       "'C:\\\\Users\\\\kendr\\\\jupyterlab_practice'"
      ]
     },
     "execution_count": 1,
     "metadata": {},
     "output_type": "execute_result"
    }
   ],
   "source": [
    "pwd"
   ]
  },
  {
   "cell_type": "markdown",
   "id": "274caed2-0069-4665-9c5b-850cb34a513b",
   "metadata": {},
   "source": [
    "To time how long it takes to run a Python cell, we could use the timeit command inside a cell as is shown below:\n",
    "```\n",
    "for i in range(1_000_000):\n",
    "    i**2\n",
    "```"
   ]
  },
  {
   "cell_type": "code",
   "execution_count": 2,
   "id": "9d00f3a4-77e2-4752-b6ca-075de535fb5a",
   "metadata": {
    "tags": []
   },
   "outputs": [
    {
     "name": "stdout",
     "output_type": "stream",
     "text": [
      "263 ms ± 1.1 ms per loop (mean ± std. dev. of 7 runs, 1 loop each)\n"
     ]
    }
   ],
   "source": [
    "%%timeit\n",
    "for i in range(1_000_000):\n",
    "    i**2"
   ]
  },
  {
   "cell_type": "code",
   "execution_count": 3,
   "id": "4e14b900-9a90-4fac-aa70-22bef066dea2",
   "metadata": {
    "tags": []
   },
   "outputs": [
    {
     "name": "stderr",
     "output_type": "stream",
     "text": [
      "[NbConvertApp] WARNING | Config option `kernel_spec_manager_class` not recognized by `NbConvertApp`.\n",
      "[NbConvertApp] Converting notebook question12.ipynb to html\n",
      "[NbConvertApp] Writing 607366 bytes to output-question12.html\n"
     ]
    }
   ],
   "source": [
    "!jupyter nbconvert question12.ipynb \\\n",
    "    --to html \\\n",
    "    --output=output-question12.html \\\n",
    "    --no-input"
   ]
  },
  {
   "cell_type": "code",
   "execution_count": null,
   "id": "08eb923e-ca04-41b1-b7c4-8f2aee1f9494",
   "metadata": {},
   "outputs": [],
   "source": []
  }
 ],
 "metadata": {
  "kernelspec": {
   "display_name": "Python 3 (ipykernel)",
   "language": "python",
   "name": "python3"
  },
  "language_info": {
   "codemirror_mode": {
    "name": "ipython",
    "version": 3
   },
   "file_extension": ".py",
   "mimetype": "text/x-python",
   "name": "python",
   "nbconvert_exporter": "python",
   "pygments_lexer": "ipython3",
   "version": "3.10.10"
  }
 },
 "nbformat": 4,
 "nbformat_minor": 5
}
